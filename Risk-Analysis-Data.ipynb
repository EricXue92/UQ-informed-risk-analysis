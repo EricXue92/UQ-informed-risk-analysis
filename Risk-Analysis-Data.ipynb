{
 "cells": [
  {
   "cell_type": "code",
   "execution_count": 7,
   "metadata": {},
   "outputs": [],
   "source": [
    "# brfss_diabetes\n",
    "\n",
    "# from tableshift import get_dataset\n",
    "# from sklearn.ensemble import GradientBoostingClassifier\n",
    "\n",
    "# dset = get_dataset(\"brfss_diabetes\")\n",
    "# X_train, y_train, _, _ = dset.get_pandas(\"train\")\n",
    "\n",
    "# # Train\n",
    "# estimator = GradientBoostingClassifier()\n",
    "# trained_estimator = estimator.fit(X_train, y_train)\n",
    "\n",
    "# # Test\n",
    "# for split in ('id_test', 'ood_test'):\n",
    "#     X, y, _, _ = dset.get_pandas(split)\n",
    "#     preds = estimator.predict(X)\n",
    "#     acc = (preds == y).mean()\n",
    "#     print(f'accuracy on split {split} is: {acc:.3f}')"
   ]
  },
  {
   "cell_type": "code",
   "execution_count": 1,
   "metadata": {},
   "outputs": [],
   "source": [
    "from tableshift import get_dataset, get_iid_dataset"
   ]
  },
  {
   "cell_type": "code",
   "execution_count": 1,
   "metadata": {},
   "outputs": [],
   "source": [
    "# With domain shift\n",
    "dataset_name = \"brfss_diabetes\"\n",
    "dset_shift = get_dataset(dataset_name)\n",
    "# Fetch a pandas DataFrame of the training set \n",
    "# train, validation, id_test, ood_validation, ood_test\n",
    "X_tr, y_tr, _, _ = dset_shift.get_pandas(\"train\")\n",
    "X_tr.to_csv(\"X_train.csv\", index = None)\n",
    "y_tr.to_csv(\"y_train.csv\", index = None)\n",
    "X_id_test, y_id_test, _, _ = dset_shift.get_pandas(\"id_test\")\n",
    "X_ood_test, y_ood_test, _, _ = dset_shift.get_pandas(\"ood_test\")\n",
    "X_id_test.to_csv(\"X_id_test.csv\", index = None)\n",
    "y_id_test.to_csv(\"y_id_test.csv\", index = None)\n",
    "X_ood_test.to_csv(\"X_ood_test.csv\", index = None)\n",
    "y_ood_test.to_csv(\"y_ood_test.csv\", index = None)"
   ]
  },
  {
   "cell_type": "code",
   "execution_count": null,
   "metadata": {},
   "outputs": [],
   "source": [
    "# Without domain shift \n",
    "# train, validation, test\n",
    "dataset_name = \"brfss_diabetes\"\n",
    "dset = get_iid_dataset(dataset_name)\n",
    "X_train, y_train, _, _ = dset.get_pandas(\"train\")\n",
    "X_val, y_val, _, _ = dset.get_pandas(\"validation\")\n",
    "X_test, y_test, _, _ = dset.get_pandas(\"test\")\n",
    "X_train.to_csv(\"X_train.csv\", index = None)\n",
    "y_train.to_csv(\"y_train.csv\", index = None)\n",
    "X_val.to_csv(\"X_val.csv\", index = None)\n",
    "y_val.to_csv(\"y_val.csv\", index = None)\n",
    "X_test.to_csv(\"X_test.csv\", index = None)\n",
    "y_test.to_csv(\"y_test.csv\", index = None)"
   ]
  },
  {
   "cell_type": "code",
   "execution_count": 1,
   "metadata": {},
   "outputs": [],
   "source": [
    "# import pandas as pd \n",
    "# from sklearn.datasets import make_classification\n",
    "# X, y = make_classification(n_samples=1000, n_features=142, random_state=42)\n",
    "# X = pd.DataFrame(X)\n",
    "# X.describe()"
   ]
  },
  {
   "cell_type": "code",
   "execution_count": 36,
   "metadata": {},
   "outputs": [
    {
     "name": "stdout",
     "output_type": "stream",
     "text": [
      "<class 'pandas.core.series.Series'>\n",
      "Germany           477\n",
      "Argentina         471\n",
      "Brazil            462\n",
      "United Kingdom    457\n",
      "Australia         449\n",
      "Nigeria           448\n",
      "France            446\n",
      "Canada            440\n",
      "China             436\n",
      "New Zealand       435\n",
      "Japan             433\n",
      "Italy             431\n",
      "Spain             430\n",
      "Colombia          429\n",
      "Thailand          428\n",
      "South Africa      425\n",
      "Vietnam           425\n",
      "United States     420\n",
      "India             412\n",
      "South Korea       409\n",
      "Name: Country, dtype: int64\n",
      "(8763, 53)\n"
     ]
    }
   ],
   "source": [
    "import pandas as pd \n",
    "pd.set_option('display.max_rows', None)\n",
    "pd.set_option('display.max_columns', None)\n",
    "\n",
    "df = pd.read_csv(\"heart_attack_prediction_dataset.csv\")\n",
    "\n",
    "df = df.drop('Patient ID', axis=1)\n",
    "\n",
    "print(type(df['Blood Pressure'] ))\n",
    "\n",
    "df[['Blood Pressure high', 'Blood Pressure low']] = df['Blood Pressure'].str.split('/', expand=True)\n",
    "\n",
    "df[\"Blood Pressure high\"] = df['Blood Pressure high'].astype(int)\n",
    "\n",
    "df[\"Blood Pressure low\"] = df['Blood Pressure low'].astype(int)\n",
    "df[\"Blood Pressure low\"] = df['Blood Pressure low'].astype(int)\n",
    "\n",
    "df['Sex'] = df['Sex'].map({'Male': 0,'Female': 1})\n",
    "df = df.drop('Blood Pressure', axis=1)\n",
    "\n",
    "print(df['Country'].value_counts())\n",
    "df = pd.get_dummies(df)\n",
    "print(df.shape)\n",
    "df.to_csv('heart_attack.csv', index = None)"
   ]
  },
  {
   "cell_type": "code",
   "execution_count": 1,
   "metadata": {},
   "outputs": [
    {
     "data": {
      "text/plain": [
       "(8764, 142)"
      ]
     },
     "execution_count": 1,
     "metadata": {},
     "output_type": "execute_result"
    }
   ],
   "source": [
    "import pandas as pd \n",
    "df = pd.read_csv(\"heart_attack.csv\")\n",
    "df.shape"
   ]
  }
 ],
 "metadata": {
  "kernelspec": {
   "display_name": "tableshift",
   "language": "python",
   "name": "python3"
  },
  "language_info": {
   "codemirror_mode": {
    "name": "ipython",
    "version": 3
   },
   "file_extension": ".py",
   "mimetype": "text/x-python",
   "name": "python",
   "nbconvert_exporter": "python",
   "pygments_lexer": "ipython3",
   "version": "3.8.18"
  }
 },
 "nbformat": 4,
 "nbformat_minor": 2
}
